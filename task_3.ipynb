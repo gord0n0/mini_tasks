{
  "nbformat": 4,
  "nbformat_minor": 0,
  "metadata": {
    "colab": {
      "provenance": [],
      "authorship_tag": "ABX9TyNdJtL6RvxRpkTGqlpfxZGA",
      "include_colab_link": true
    },
    "kernelspec": {
      "name": "python3",
      "display_name": "Python 3"
    },
    "language_info": {
      "name": "python"
    }
  },
  "cells": [
    {
      "cell_type": "markdown",
      "metadata": {
        "id": "view-in-github",
        "colab_type": "text"
      },
      "source": [
        "<a href=\"https://colab.research.google.com/github/gord0n0/mini_tasks/blob/Mini-tasks/task_3.ipynb\" target=\"_parent\"><img src=\"https://colab.research.google.com/assets/colab-badge.svg\" alt=\"Open In Colab\"/></a>"
      ]
    },
    {
      "cell_type": "code",
      "execution_count": null,
      "metadata": {
        "colab": {
          "base_uri": "https://localhost:8080/"
        },
        "id": "lWtpJXVIYvjX",
        "outputId": "a5711e77-2c91-4e49-99f2-c4f0daf68343"
      },
      "outputs": [
        {
          "output_type": "stream",
          "name": "stdout",
          "text": [
            "First item: pizza\n",
            "Last item: apple\n",
            "All foods:\n",
            "pizza\n",
            "mango\n",
            "kales\n",
            "pizza\n",
            "chicken\n",
            "beef\n",
            "apple\n",
            "avocado\n",
            "Foods starting with 'a':\n",
            "apple\n",
            "avocado\n",
            "Pizza appears 2 times.\n",
            "Second to fourth items: ['mango', 'kales', 'pizza']\n",
            "Reversed list: ['avocado', 'apple', 'beef', 'chicken', 'pizza', 'kales', 'mango', 'pizza']\n"
          ]
        }
      ],
      "source": [
        "\n",
        "foods = [\"pizza\", \"cake\", \"banana\", \"kales\", \"pizza\", \"chicken\", \"beef\", \"apple\"]\n",
        "\n",
        "\n",
        "print(\"First item:\", foods[0])\n",
        "print(\"Last item:\", foods[-1])\n",
        "\n",
        "\n",
        "foods[2] = \"mango\"\n",
        "\n",
        "\n",
        "foods.append(\"avocado\")\n",
        "\n",
        "foods.remove(\"cake\")\n",
        "\n",
        "\n",
        "print(\"All foods:\")\n",
        "for food in foods:\n",
        "    print(food)\n",
        "\n",
        "print(\"Foods starting with 'a':\")\n",
        "for food in foods:\n",
        "    if food.startswith(\"a\"):\n",
        "        print(food)\n",
        "\n",
        "\n",
        "pizza_count = foods.count(\"pizza\")\n",
        "print(\"Pizza appears\", pizza_count, \"times.\")\n",
        "\n",
        "print(\"Second to fourth items:\", foods[1:4])\n",
        "\n",
        "print(\"Reversed list:\", foods[::-1])\n"
      ]
    },
    {
      "cell_type": "code",
      "source": [
        "\n",
        "numbers = [5, 2, 9, 1, 7]\n",
        "\n",
        "total = sum(numbers)\n",
        "highest = max(numbers)\n",
        "smallest = min(numbers)\n",
        "\n",
        "print(\"Total:\", total)\n",
        "print(\"Highest number:\", highest)\n",
        "print(\"Smallest number:\", smallest)\n",
        "\n",
        "numbers.sort()\n",
        "print(\"Sorted ascending:\", numbers)\n",
        "\n",
        "numbers.reverse()\n",
        "print(\"Sorted descending:\", numbers)\n",
        "\n",
        "\n",
        "numbers.insert(2, 10)\n",
        "print(\"After inserting 10 at index 2:\", numbers)"
      ],
      "metadata": {
        "colab": {
          "base_uri": "https://localhost:8080/"
        },
        "id": "CpX2rpD7ZBpI",
        "outputId": "2972a485-b3d6-44e0-cec0-596fccc230e7"
      },
      "execution_count": null,
      "outputs": [
        {
          "output_type": "stream",
          "name": "stdout",
          "text": [
            "Total: 24\n",
            "Highest number: 9\n",
            "Smallest number: 1\n",
            "Sorted ascending: [1, 2, 5, 7, 9]\n",
            "Sorted descending: [9, 7, 5, 2, 1]\n",
            "After inserting 10 at index 2: [9, 7, 10, 5, 2, 1]\n"
          ]
        }
      ]
    },
    {
      "cell_type": "code",
      "source": [
        "\n",
        "students = [[\"Alice\", 85], [\"Bob\", 78], [\"Charlie\", 92]]\n",
        "\n",
        "\n",
        "for student in students:\n",
        "    print(f\"{student[0]}: {student[1]}\")\n",
        "\n",
        "\n",
        "highest_score_student = max(students, key=lambda x: x[1])\n",
        "print(f\"Top student: {highest_score_student[0]} with a score of {highest_score_student[1]}\")"
      ],
      "metadata": {
        "colab": {
          "base_uri": "https://localhost:8080/"
        },
        "id": "hNpLwBKMZ2NG",
        "outputId": "f34ae683-3f49-4304-c535-bb8197055ae5"
      },
      "execution_count": null,
      "outputs": [
        {
          "output_type": "stream",
          "name": "stdout",
          "text": [
            "Alice: 85\n",
            "Bob: 78\n",
            "Charlie: 92\n",
            "Top student: Charlie with a score of 92\n"
          ]
        }
      ]
    },
    {
      "cell_type": "code",
      "source": [
        "\n",
        "def get_five_numbers():\n",
        "    numbers = []\n",
        "    print(\"Please enter 5 numbers:\")\n",
        "    for i in range(5):\n",
        "        while True:\n",
        "            try:\n",
        "                num = int(input(f\"Number {i+1}: \"))\n",
        "                numbers.append(num)\n",
        "                break\n",
        "            except ValueError:\n",
        "                print(\"That's not a valid number. Please try again.\")\n",
        "    return numbers\n",
        "\n",
        "\n",
        "def remove_even_numbers(numbers):\n",
        "    return [num for num in numbers if num % 2 != 0]\n",
        "\n",
        "user_numbers = get_five_numbers()\n",
        "print(\"Your numbers:\", user_numbers)\n",
        "\n",
        "odd_numbers = remove_even_numbers(user_numbers)\n",
        "print(\"List after removing even numbers:\", odd_numbers)\n"
      ],
      "metadata": {
        "colab": {
          "base_uri": "https://localhost:8080/"
        },
        "id": "_fb6eQiJaCE3",
        "outputId": "a44197c6-ce10-47b0-aa2e-de25fa85ab1a"
      },
      "execution_count": null,
      "outputs": [
        {
          "output_type": "stream",
          "name": "stdout",
          "text": [
            "Please enter 5 numbers:\n",
            "Number 1: 2\n",
            "Number 2: 3\n",
            "Number 3: 4\n",
            "Number 4: 5\n",
            "Number 5: 6\n",
            "Your numbers: [2, 3, 4, 5, 6]\n",
            "List after removing even numbers: [3, 5]\n"
          ]
        }
      ]
    },
    {
      "cell_type": "code",
      "source": [
        "list1 = [1, 2, 3]\n",
        "list2 = [4, 5, 6]\n",
        "\n",
        "merged_list = list1 + list2\n",
        "print(\"Merged list (using +):\", merged_list)\n",
        "\n",
        "list1.extend(list2)\n",
        "print(\"Merged list (using extend):\", list1)\n"
      ],
      "metadata": {
        "colab": {
          "base_uri": "https://localhost:8080/"
        },
        "id": "uCuIFh3laQnp",
        "outputId": "c31888ea-eefb-45fa-c70c-5a05be97999c"
      },
      "execution_count": null,
      "outputs": [
        {
          "output_type": "stream",
          "name": "stdout",
          "text": [
            "Merged list (using +): [1, 2, 3, 4, 5, 6]\n",
            "Merged list (using extend): [1, 2, 3, 4, 5, 6]\n"
          ]
        }
      ]
    },
    {
      "cell_type": "code",
      "source": [
        "\n",
        "\n",
        "names = []\n",
        "\n",
        "while True:\n",
        "    name = input(\"Enter a student name (or type 'stop' to finish): \")\n",
        "    if name.lower() == \"stop\":\n",
        "        break\n",
        "    names.append(name)\n",
        "\n",
        "print(\"All student names:\", names)\n",
        "\n",
        "print(\"Names longer than 5 characters:\")\n",
        "for name in names:\n",
        "    if len(name) > 5:\n",
        "        print(name)\n"
      ],
      "metadata": {
        "colab": {
          "base_uri": "https://localhost:8080/"
        },
        "id": "XQWo6Eqhadp7",
        "outputId": "f3ba2356-873b-46ad-f192-8fa31c77ca27"
      },
      "execution_count": null,
      "outputs": [
        {
          "output_type": "stream",
          "name": "stdout",
          "text": [
            "Enter a student name (or type 'stop' to finish): Carl\n",
            "Enter a student name (or type 'stop' to finish): stop\n",
            "All student names: ['Carl']\n",
            "Names longer than 5 characters:\n"
          ]
        }
      ]
    },
    {
      "cell_type": "code",
      "source": [],
      "metadata": {
        "id": "DKpedk-MaxNY"
      },
      "execution_count": null,
      "outputs": []
    }
  ]
}