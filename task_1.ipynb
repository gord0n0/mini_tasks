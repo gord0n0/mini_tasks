{
  "cells": [
    {
      "cell_type": "markdown",
      "metadata": {
        "id": "view-in-github",
        "colab_type": "text"
      },
      "source": [
        "<a href=\"https://colab.research.google.com/github/gord0n0/mini_tasks/blob/Mini-tasks/task_1.ipynb\" target=\"_parent\"><img src=\"https://colab.research.google.com/assets/colab-badge.svg\" alt=\"Open In Colab\"/></a>"
      ]
    },
    {
      "cell_type": "code",
      "execution_count": null,
      "metadata": {
        "colab": {
          "base_uri": "https://localhost:8080/"
        },
        "id": "x5HG_xF-NONP",
        "outputId": "96e6c9a5-1703-415e-98ab-e4c89fecaf12"
      },
      "outputs": [
        {
          "name": "stdout",
          "output_type": "stream",
          "text": [
            "Student's name: Alice\n",
            "Updated student dictionary: {'name': 'Alice', 'grade': 'A', 'school': 'Greenwood High'}\n"
          ]
        }
      ],
      "source": [
        "\n",
        "student = {\n",
        "    \"name\": \"Alice\",\n",
        "    \"age\": 14,\n",
        "    \"grade\": \"B\"\n",
        "}\n",
        "\n",
        "print(\"Student's name:\", student[\"name\"])\n",
        "student[\"grade\"] = \"A\"\n",
        "\n",
        "student[\"school\"] = \"Greenwood High\"\n",
        "del student[\"age\"]\n",
        "print(\"Updated student dictionary:\", student)\n"
      ]
    },
    {
      "cell_type": "code",
      "execution_count": null,
      "metadata": {
        "colab": {
          "base_uri": "https://localhost:8080/"
        },
        "id": "kGzcQSjoN8Pm",
        "outputId": "58fb7da7-2e4f-49bf-eda4-987f09a5cabd"
      },
      "outputs": [
        {
          "name": "stdout",
          "output_type": "stream",
          "text": [
            "Keys and values:\n",
            "name : Bob\n",
            "age : 30\n",
            "city : Nairobi\n",
            "\n",
            "Keys:\n",
            "name\n",
            "age\n",
            "city\n",
            "\n",
            "Values:\n",
            "Bob\n",
            "30\n",
            "Nairobi\n",
            "\n",
            "Email: Not provided\n",
            "\n",
            "The key 'city' exists in the dictionary.\n",
            "\n",
            "Updated person dictionary: {'name': 'Bob', 'age': 30, 'city': 'Mombasa', 'email': 'bob@example.com'}\n"
          ]
        }
      ],
      "source": [
        "\n",
        "person = {\"name\": \"Bob\", \"age\": 30, \"city\": \"Nairobi\"}\n",
        "print(\"Keys and values:\")\n",
        "for key, value in person.items():\n",
        "    print(key, \":\", value)\n",
        "\n",
        "print(\"\\nKeys:\")\n",
        "for key in person.keys():\n",
        "    print(key)\n",
        "\n",
        "print(\"\\nValues:\")\n",
        "for value in person.values():\n",
        "    print(value)\n",
        "\n",
        "email = person.get(\"email\", \"Not provided\")\n",
        "print(\"\\nEmail:\", email)\n",
        "\n",
        "if \"city\" in person:\n",
        "    print(\"\\nThe key 'city' exists in the dictionary.\")\n",
        "\n",
        "person.update({\"city\": \"Mombasa\", \"email\": \"bob@example.com\"})\n",
        "\n",
        "print(\"\\nUpdated person dictionary:\", person)\n"
      ]
    },
    {
      "cell_type": "code",
      "execution_count": null,
      "metadata": {
        "colab": {
          "base_uri": "https://localhost:8080/"
        },
        "id": "2cTBt-4APOSn",
        "outputId": "556fb9bb-2dfc-4da2-d8de-db0b9bd5bd2d"
      },
      "outputs": [
        {
          "name": "stdout",
          "output_type": "stream",
          "text": [
            "Students name and Grade\n",
            "Alice - Grade: 85\n",
            "Bob - Grade: 90\n",
            "Charlie - Grade: 78\n",
            "\n",
            "Average Grade: 84.33333333333333\n"
          ]
        }
      ],
      "source": [
        "students = [\n",
        "    {\"name\": \"Alice\", \"age\": 14, \"grade\": 85},\n",
        "    {\"name\": \"Bob\", \"age\": 15, \"grade\": 90},\n",
        "    {\"name\": \"Charlie\", \"age\": 13, \"grade\": 78}\n",
        "]\n",
        "print(\"Students name and Grade\")\n",
        "for student in students:\n",
        "    print(f\"{student['name']} - Grade: {student['grade']}\")\n",
        "total=0\n",
        "for student in students:\n",
        "    total += student[\"grade\"]\n",
        "average_grade = total / len(students)\n",
        "print(\"\\nAverage Grade:\", average_grade)\n"
      ]
    },
    {
      "cell_type": "code",
      "execution_count": null,
      "metadata": {
        "colab": {
          "base_uri": "https://localhost:8080/"
        },
        "id": "XmZhcJkrQikk",
        "outputId": "046867b5-bdd1-4dff-e6d5-2ed91f56aa15"
      },
      "outputs": [
        {
          "name": "stdout",
          "output_type": "stream",
          "text": [
            "{'apple': 3, 'banana': 2, 'cherry': 1}\n"
          ]
        }
      ],
      "source": [
        "words = [\"apple\", \"banana\", \"apple\", \"cherry\", \"banana\", \"apple\"]\n",
        "\n",
        "word_counts = {}\n",
        "for word in words:\n",
        "    if word in word_counts:\n",
        "        word_counts[word] +=1\n",
        "    else:\n",
        "        word_counts[word] =1\n",
        "\n",
        "print(word_counts)"
      ]
    },
    {
      "cell_type": "code",
      "execution_count": null,
      "metadata": {
        "colab": {
          "background_save": true,
          "base_uri": "https://localhost:8080/"
        },
        "id": "3paBGT7ERTR2",
        "outputId": "f546fddb-ddd5-40ca-b7d7-50177773e740"
      },
      "outputs": [
        {
          "name": "stdout",
          "output_type": "stream",
          "text": [
            "\n",
            "Phonebook entries saved.\n",
            "Carl's number is 0741052235\n"
          ]
        }
      ],
      "source": [
        "phonebook = {}\n",
        "\n",
        "while True:\n",
        "  name = input(\"Enter you're name(or type 'done' to stop):\")\n",
        "  if name.lower()== 'done':\n",
        "    break\n",
        "\n",
        "  phone = input(\"Enter your phone number:\")\n",
        "  phonebook[name] = phone\n",
        "\n",
        "print(\"\\nPhonebook entries saved.\")\n",
        "\n",
        "while True:\n",
        "    lookup_name = input(\"\\nEnter a name to look up (or type 'exit' to quit): \")\n",
        "    if lookup_name.lower() == 'exit':\n",
        "        break\n",
        "    number = phonebook.get(lookup_name)\n",
        "    if number:\n",
        "        print(f\"{lookup_name}'s number is {number}\")\n",
        "    else:\n",
        "        print(f\"{lookup_name} not found in the phonebook.\")\n",
        "\n",
        "\n"
      ]
    },
    {
      "cell_type": "code",
      "execution_count": null,
      "metadata": {
        "id": "U5uG2iKNScNt"
      },
      "outputs": [],
      "source": []
    }
  ],
  "metadata": {
    "colab": {
      "provenance": [],
      "authorship_tag": "ABX9TyOF+emfkSnfC+hDG1OdcZa+",
      "include_colab_link": true
    },
    "kernelspec": {
      "display_name": "Python 3",
      "name": "python3"
    },
    "language_info": {
      "name": "python"
    }
  },
  "nbformat": 4,
  "nbformat_minor": 0
}